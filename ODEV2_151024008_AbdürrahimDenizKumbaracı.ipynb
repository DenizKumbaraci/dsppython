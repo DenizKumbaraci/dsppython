{
 "cells": [
  {
   "cell_type": "markdown",
   "metadata": {},
   "source": [
    "# ÖDEV-1 Abdürrahim Deniz Kumbaracı 151024008\n",
    "\n",
    "\n"
   ]
  },
  {
   "cell_type": "markdown",
   "metadata": {},
   "source": [
    "### Ön hazırlık dosyasında verilen kodlar aşağıya yazılacak:"
   ]
  },
  {
   "cell_type": "code",
   "execution_count": 4,
   "metadata": {},
   "outputs": [],
   "source": [
    "import numpy as np\n",
    "import matplotlib.pyplot as plt\n",
    "%matplotlib notebook\n",
    "\n",
    "##--------------------KODLAR buraya eklenecek------------------------\n",
    "## ....\n",
    "## ....\n",
    "## ....\n",
    "\n",
    "\n",
    "\n"
   ]
  },
  {
   "cell_type": "markdown",
   "metadata": {},
   "source": [
    "## Ön hazırlık ödevleri (ÖDEV-1 başlığı altındaki soruların çözümleri aşağıda verilecek) "
   ]
  },
  {
   "cell_type": "markdown",
   "metadata": {},
   "source": [
    "### SORU-1"
   ]
  },
  {
   "cell_type": "code",
   "execution_count": 75,
   "metadata": {},
   "outputs": [],
   "source": [
    "import numpy as np\n",
    "import matplotlib.pyplot as plt\n",
    "from scipy import signal\n",
    "from scipy.ndimage.interpolation import shift\n"
   ]
  },
  {
   "cell_type": "markdown",
   "metadata": {},
   "source": [
    "## I)"
   ]
  },
  {
   "cell_type": "code",
   "execution_count": 184,
   "metadata": {
    "scrolled": true
   },
   "outputs": [
    {
     "ename": "ValueError",
     "evalue": "operands could not be broadcast together with shapes (21,) (11,) ",
     "output_type": "error",
     "traceback": [
      "\u001b[1;31m---------------------------------------------------------------------------\u001b[0m",
      "\u001b[1;31mValueError\u001b[0m                                Traceback (most recent call last)",
      "\u001b[1;32m~\\AppData\\Local\\Temp/ipykernel_4140/3774286092.py\u001b[0m in \u001b[0;36m<module>\u001b[1;34m\u001b[0m\n\u001b[0;32m     16\u001b[0m \u001b[1;33m\u001b[0m\u001b[0m\n\u001b[0;32m     17\u001b[0m \u001b[0mdeneme\u001b[0m\u001b[1;33m=\u001b[0m\u001b[0mnp\u001b[0m\u001b[1;33m.\u001b[0m\u001b[0marange\u001b[0m\u001b[1;33m(\u001b[0m\u001b[1;36m0\u001b[0m\u001b[1;33m,\u001b[0m\u001b[1;36m100\u001b[0m\u001b[1;33m)\u001b[0m\u001b[1;33m\u001b[0m\u001b[1;33m\u001b[0m\u001b[0m\n\u001b[1;32m---> 18\u001b[1;33m \u001b[0mh100\u001b[0m\u001b[1;33m=\u001b[0m\u001b[0mn\u001b[0m\u001b[1;33m*\u001b[0m\u001b[0mh\u001b[0m\u001b[1;33m\u001b[0m\u001b[1;33m\u001b[0m\u001b[0m\n\u001b[0m\u001b[0;32m     19\u001b[0m \u001b[0mplt\u001b[0m\u001b[1;33m.\u001b[0m\u001b[0mstem\u001b[0m\u001b[1;33m(\u001b[0m\u001b[0mdeneme\u001b[0m\u001b[1;33m,\u001b[0m\u001b[0mh100\u001b[0m\u001b[1;33m)\u001b[0m\u001b[1;33m\u001b[0m\u001b[1;33m\u001b[0m\u001b[0m\n\u001b[0;32m     20\u001b[0m \u001b[1;33m\u001b[0m\u001b[0m\n",
      "\u001b[1;31mValueError\u001b[0m: operands could not be broadcast together with shapes (21,) (11,) "
     ]
    },
    {
     "data": {
      "image/png": "[encoded data removed]",
      "text/plain": [
       "<Figure size 432x288 with 1 Axes>"
      ]
     },
     "metadata": {
      "needs_background": "light"
     },
     "output_type": "display_data"
    },
    {
     "data": {
      "image/png": "[encoded data removed]",
      "text/plain": [
       "<Figure size 432x288 with 1 Axes>"
      ]
     },
     "metadata": {
      "needs_background": "light"
     },
     "output_type": "display_data"
    },
    {
     "data": {
      "text/plain": [
       "<Figure size 432x288 with 0 Axes>"
      ]
     },
     "metadata": {},
     "output_type": "display_data"
    }
   ],
   "source": [
    "x1 = np.ones(1)\n",
    "x2 = np.zeros(10)\n",
    "x= np.concatenate([x1,x2]) \n",
    "plt.stem(x)\n",
    "plt.title('Dirac[n]')\n",
    "plt.figure()\n",
    "\n",
    "\n",
    "\n",
    "b=[1,0,0,-1]\n",
    "a=[1,-1.1]\n",
    "h=signal.lfilter(b,a,x)\n",
    "plt.stem(h)\n",
    "plt.title('Impulse Response')\n",
    "plt.figure()\n",
    "\n",
    "\n",
    "\n",
    "x3=np.zeros(4)\n",
    "x4=np.ones(7)\n",
    "xn= np.concatenate([x3,x4])\n",
    "plt.stem(xn)\n",
    "plt.title('x[n]')\n",
    "plt.figure()\n",
    "yn=signal.convolve(xn,h)\n",
    "\n",
    "\n",
    "\n",
    "\n",
    "\n",
    "\n",
    "plt.stem(yn)\n",
    "plt.title('y[n] Convolve kullanarak')\n",
    "\n",
    "plt.figure()\n",
    "plt.stem(signal.lfilter(b,a,xn))\n",
    "plt.title('y[n] Lfilter Kullanarak')\n",
    "\n",
    "\n"
   ]
  },
  {
   "cell_type": "markdown",
   "metadata": {},
   "source": [
    "Convolve komutu kullanarak oluşturduğum y[n] işaretinde 'same' komutunu kullandığım zaman işaret sola ötelenmiş bir biçimde oluşuyor. Bu signal kütüphanesinin konvulüsyon tanımı ile ilgili. Fakat farklı boyutlarda da olsa lfilter ve convolve kullanılarak oluşturduğum işaretlerin ilk 11 indis boyunca aynı değerleri aldığını gözlemliyebiliyoruz."
   ]
  },
  {
   "cell_type": "code",
   "execution_count": 129,
   "metadata": {},
   "outputs": [
    {
     "name": "stdout",
     "output_type": "stream",
     "text": [
      "[0.       0.       0.       0.       1.       2.1      3.31     3.641\n",
      " 4.0051   4.40561  4.846171]\n",
      "[0.         0.         0.         0.         1.         2.1\n",
      " 3.31       3.641      4.0051     4.40561    4.846171   4.3307881\n",
      " 3.76386691 3.1402536  3.45427896 3.09017896 2.68966896 2.24910796\n",
      " 1.76449086 1.23141205 0.64502536]\n"
     ]
    }
   ],
   "source": [
    "print(signal.lfilter(b,a,xn))\n",
    "print(yn)"
   ]
  },
  {
   "cell_type": "markdown",
   "metadata": {},
   "source": [
    "### SORU-2"
   ]
  },
  {
   "cell_type": "code",
   "execution_count": 182,
   "metadata": {},
   "outputs": [
    {
     "data": {
      "text/plain": [
       "<StemContainer object of 3 artists>"
      ]
     },
     "execution_count": 182,
     "metadata": {},
     "output_type": "execute_result"
    },
    {
     "data": {
      "image/png": "[encoded data removed]",
      "text/plain": [
       "<Figure size 432x288 with 1 Axes>"
      ]
     },
     "metadata": {
      "needs_background": "light"
     },
     "output_type": "display_data"
    },
    {
     "data": {
      "image/png": "[encoded data removed]",
      "text/plain": [
       "<Figure size 432x288 with 1 Axes>"
      ]
     },
     "metadata": {
      "needs_background": "light"
     },
     "output_type": "display_data"
    },
    {
     "data": {
      "image/png": "[encoded data removed]",
      "text/plain": [
       "<Figure size 432x288 with 1 Axes>"
      ]
     },
     "metadata": {
      "needs_background": "light"
     },
     "output_type": "display_data"
    },
    {
     "data": {
      "image/png": "[encoded data removed]",
      "text/plain": [
       "<Figure size 432x288 with 1 Axes>"
      ]
     },
     "metadata": {
      "needs_background": "light"
     },
     "output_type": "display_data"
    },
    {
     "data": {
      "image/png": "[encoded data removed]",
      "text/plain": [
       "<Figure size 432x288 with 1 Axes>"
      ]
     },
     "metadata": {
      "needs_background": "light"
     },
     "output_type": "display_data"
    }
   ],
   "source": [
    "n=np.arange(-1,20)\n",
    "h=(np.heaviside(n+1,1)-np.heaviside(n-2,1))*1/3\n",
    "plt.title('h[n]')\n",
    "plt.stem(n,h)\n",
    "x1u=(np.heaviside(n-10,1)-np.heaviside(n-20,1))\n",
    "x1=np.cos(np.pi*n/5)*x1u\n",
    "plt.figure()\n",
    "plt.title('x1[n]')\n",
    "plt.stem(n,x1)\n",
    "x2u=(np.heaviside(n-3,1)-np.heaviside(n-5,1))\n",
    "x2=pow(-0.3,n)*x2u\n",
    "plt.figure()\n",
    "plt.title('x2[n]')\n",
    "plt.stem(n,x2)\n",
    "\n",
    "\n",
    "\n",
    "plt.figure()\n",
    "plt.title('y1[n]')\n",
    "plt.stem(n,np.convolve(x1,h,'same'))\n",
    "\n",
    "\n",
    "plt.figure()\n",
    "plt.title('y2[n]')\n",
    "plt.stem(n,np.convolve(x2,h,'same'))\n",
    "\n",
    "\n"
   ]
  },
  {
   "cell_type": "code",
   "execution_count": null,
   "metadata": {},
   "outputs": [],
   "source": []
  },
  {
   "cell_type": "code",
   "execution_count": null,
   "metadata": {},
   "outputs": [],
   "source": []
  },
  {
   "cell_type": "code",
   "execution_count": null,
   "metadata": {},
   "outputs": [],
   "source": []
  }
 ],
 "metadata": {
  "kernelspec": {
   "display_name": "Python 3 (ipykernel)",
   "language": "python",
   "name": "python3"
  },
  "language_info": {
   "codemirror_mode": {
    "name": "ipython",
    "version": 3
   },
   "file_extension": ".py",
   "mimetype": "text/x-python",
   "name": "python",
   "nbconvert_exporter": "python",
   "pygments_lexer": "ipython3",
   "version": "3.9.7"
  }
 },
 "nbformat": 4,
 "nbformat_minor": 2
}
